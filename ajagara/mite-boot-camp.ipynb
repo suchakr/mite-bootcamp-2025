{
 "cells": [
  {
   "cell_type": "markdown",
   "id": "40feb930",
   "metadata": {},
   "source": [
    "## Welcome to the boot camp\n",
    "\n",
    "#### My name is **Sunder**\n",
    "\n",
    "#### **Coding problems** - Think  analyse and express in code \n",
    "\n",
    "#### **Python** as vehicle\n",
    "\n",
    "#### https://tinyurl.com/mite-ds-notes\n",
    "\n",
    "\n",
    "\n",
    "## https://tinyurl.com/mite-interview-prep-tips\n",
    "\n",
    "#### Create a **Kaggle Account** - https://www.kaggle.com/learn/python"
   ]
  },
  {
   "cell_type": "code",
   "execution_count": null,
   "id": "9c84cbd2",
   "metadata": {},
   "outputs": [],
   "source": [
    "aja = \"Hello Ajagara\""
   ]
  },
  {
   "cell_type": "code",
   "execution_count": null,
   "id": "f3b344d7",
   "metadata": {},
   "outputs": [],
   "source": [
    "{\n",
    "'greet': aja, \n",
    "'len_greet': len(aja) , \n",
    "'count_a' : aja.count(\"a\")\n",
    "}"
   ]
  },
  {
   "cell_type": "code",
   "execution_count": null,
   "id": "734b6055",
   "metadata": {},
   "outputs": [],
   "source": [
    "count_a = 0\n",
    "for c in aja :\n",
    "    if c == 'a' :\n",
    "        count_a += 1\n",
    "count_a\n"
   ]
  },
  {
   "cell_type": "code",
   "execution_count": null,
   "id": "cd81b047",
   "metadata": {},
   "outputs": [],
   "source": [
    "count_a = 0\n",
    "for c in aja :\n",
    "    count_a += 1 if c == 'a' else 0\n",
    "count_a\n"
   ]
  },
  {
   "cell_type": "code",
   "execution_count": null,
   "id": "4bf17fc7",
   "metadata": {},
   "outputs": [],
   "source": [
    "aja.count(\"a\")"
   ]
  },
  {
   "cell_type": "code",
   "execution_count": null,
   "id": "ecc18aea",
   "metadata": {},
   "outputs": [],
   "source": [
    "count_a = 0\n",
    "for char in aja:\n",
    "    if char == \"a\":\n",
    "        count_a += 1\n",
    "count_a"
   ]
  },
  {
   "cell_type": "code",
   "execution_count": null,
   "id": "8357d898",
   "metadata": {},
   "outputs": [],
   "source": [
    "# Count the unique characters in the string - \"Hello Ajagara\"\n",
    "\n",
    "\n",
    "haja = \"Hello Ajagara\"\n",
    "set(haja) , len(set(haja))"
   ]
  },
  {
   "cell_type": "markdown",
   "id": "f01fea43",
   "metadata": {},
   "source": [
    "## Get the histogram of characters of greet in a variable called **histogram_greet**"
   ]
  },
  {
   "cell_type": "code",
   "execution_count": null,
   "id": "d986a0b2",
   "metadata": {},
   "outputs": [],
   "source": [
    "seen = {}\n",
    "for c in haja :\n",
    "    seen[c] = True\n",
    "\n",
    "seen , \"===\",  seen.keys() , \"===\" ,  len(.keys())"
   ]
  },
  {
   "cell_type": "code",
   "execution_count": null,
   "id": "d57ea3fa",
   "metadata": {},
   "outputs": [],
   "source": [
    "seen_chars = []\n",
    "for c in aja:\n",
    "    if c not in seen_chars:\n",
    "        seen_chars.append(c)\n",
    "seen_chars, \"===\", len(seen_chars)\n",
    "set(haja)"
   ]
  },
  {
   "cell_type": "code",
   "execution_count": null,
   "id": "cd4ba4a4",
   "metadata": {},
   "outputs": [],
   "source": [
    "histogram_greet= {}\n",
    "for c in haja :\n",
    "    histogram_greet[c] = histogram_greet.get(c, 0) + 1\n",
    "histogram_greet"
   ]
  },
  {
   "cell_type": "code",
   "execution_count": null,
   "id": "44f4b68c",
   "metadata": {},
   "outputs": [],
   "source": [
    "histogram_greet = {}\n",
    "for c in haja :\n",
    "    if c not in histogram_greet:\n",
    "        histogram_greet[c] = 0\n",
    "    histogram_greet[c] += 1\n",
    "print(histogram_greet)"
   ]
  },
  {
   "cell_type": "markdown",
   "id": "090cb567",
   "metadata": {},
   "source": [
    "## Using the  *histogram_greet* , create a **sorted_histogram_greet** , that sorts the letters by their frequencies"
   ]
  },
  {
   "cell_type": "code",
   "execution_count": null,
   "id": "71bfabac",
   "metadata": {},
   "outputs": [],
   "source": [
    "sorted(list(histogram_greet.items()), key=lambda x: x[0], reverse=False)"
   ]
  },
  {
   "cell_type": "code",
   "execution_count": null,
   "id": "85c76fc6",
   "metadata": {},
   "outputs": [],
   "source": [
    "num_array = [ ( e%2, e ) for e in [1, 21, 13, 4, 5] ]\n",
    "(\n",
    "num_array, \n",
    "sorted(num_array), \n",
    "sorted(num_array, key=lambda x: x[0], reverse=False),\n",
    "sorted(num_array, key=lambda x: x[0], reverse=not False)\n",
    ")"
   ]
  },
  {
   "cell_type": "code",
   "execution_count": null,
   "id": "2e347023",
   "metadata": {},
   "outputs": [],
   "source": [
    "list(histogram_greet.items())"
   ]
  },
  {
   "cell_type": "code",
   "execution_count": null,
   "id": "0baab6e8",
   "metadata": {},
   "outputs": [],
   "source": [
    "seen = {}\n",
    "for c in haja :\n",
    "    if c in seen:\n",
    "        seen[c] += 1\n",
    "    else:\n",
    "        seen[c] = 1\n",
    "#seen #, \"===\",  seen.keys() , \"===\" ,  len(seen.keys())\n",
    "seen"
   ]
  },
  {
   "cell_type": "code",
   "execution_count": null,
   "id": "ff80b067",
   "metadata": {},
   "outputs": [],
   "source": [
    "haja = \"Hello Ajagara\"\n",
    "print(len(haja))\n"
   ]
  },
  {
   "cell_type": "markdown",
   "id": "154cfdad",
   "metadata": {},
   "source": [
    "# a. Define **month_names** array with month names\n",
    "# b. let **sorted_month_names**  contain alphabetically sorted month names\n"
   ]
  },
  {
   "cell_type": "code",
   "execution_count": null,
   "id": "d81e79a8",
   "metadata": {},
   "outputs": [],
   "source": [
    "month_names = \"Jan Feb Mar Apr May Jun Jul Aug Sep Oct Nov Dec\".split()\n",
    "sorted_month_names = sorted(month_names, reverse=True)\n",
    "\n",
    "def special_sorter(x) : return x[-1]\n",
    "sorted_month_names_by_last_char = sorted(month_names, key=special_sorter) \n",
    "sorted_month_names_by_last_char = sorted(\n",
    "    month_names, \n",
    "    key=lambda x: x[-1]\n",
    "    )\n",
    " \n",
    "print(f\"\"\"\n",
    "{sorted_month_names=}\n",
    "{sorted_month_names_by_last_char=}\n",
    "\"\"\")"
   ]
  },
  {
   "cell_type": "code",
   "execution_count": null,
   "id": "f1778f2d",
   "metadata": {},
   "outputs": [],
   "source": [
    "# odd_months\n",
    "odd_months_0 = ['Jan', 'Mar', 'May', 'Jul' ,'Sep' ,'Nov']\n",
    "odd_months_1 = \"Jan Mar May Jul Sep Nov\".split()\n",
    "odd_months_2 = []\n",
    "for i in range(1,12+1,2) : odd_months_2.append(month_names[i-1])\n",
    "#####\n",
    "odd_months = month_names[0::2]\n",
    "even_months = month_names[1::2]\n",
    "#####\n",
    "odd_months=[] \n",
    "even_months=\n",
    "for ix, m in enumerate(month_names) :\n",
    "    if ix%2 == 0 :\n",
    "        odd_months.append( m)\n",
    "    else:\n",
    "        even_months.append(m)\n",
    "\n",
    "print (f\"\"\"\n",
    "{odd_months_0=}\n",
    "{odd_months_1=}\n",
    "{odd_months_2=}\n",
    "{odd_months=}\n",
    "\"\"\")"
   ]
  },
  {
   "cell_type": "code",
   "execution_count": null,
   "id": "020e4650",
   "metadata": {},
   "outputs": [],
   "source": [
    "month_names = [\"Jan\", \"Feb\", \"Mar\", \"Apr\", \"May\", \"Jun\", \"Jul\", \"Aug\", \"Sep\", \"Oct\", \"Nov\", \"Dec\"]\n",
    "# sort the month names alphabetically\n",
    "#  split the array into even an odd months\n",
    "\n",
    "sm=[]\n",
    "sm.append(sorted(month_names))\n",
    "sm\n",
    "\n",
    "sorted_month_names = sorted(month_names)\n",
    "# sorted_month_names\n",
    "\n",
    "# sorted_month_names = list(set(month_names))\n",
    "# sorted_month_names\n",
    "\n",
    "odd_months = month_names[::2]\n",
    "even_months = month_names[1::2]\n",
    "\n",
    "sorted_month_names, even_months, odd_months\n",
    "print( f\"{sorted_month_names=}\\n{even_months=}\\n{odd_months=}\")"
   ]
  },
  {
   "cell_type": "markdown",
   "id": "e9e27b02",
   "metadata": {},
   "source": [
    "```python\n",
    "odd_months =  [ x for ix, x in enumerate(month_names) if (ix+1)%2==1]\n",
    "odd_months\n",
    "```"
   ]
  },
  {
   "cell_type": "markdown",
   "id": "c33f595a",
   "metadata": {},
   "source": [
    "# 1. create a array of tuples  **month_tuples**  [ (1, 'Jan'), .... (12, 'Dec')]"
   ]
  },
  {
   "cell_type": "code",
   "execution_count": null,
   "id": "98c4ece4",
   "metadata": {},
   "outputs": [],
   "source": [
    "# month_tuples\n",
    "month_tuples = [ (ix+1, elem) for ix, elem in enumerate(month_names) ]\n",
    "\n",
    "month_tuples_01 = list(enumerate(month_names,start=1))\n",
    "\n",
    "\n",
    "month_tuples, \"===\" , month_tuples_01\n",
    "\n"
   ]
  },
  {
   "cell_type": "markdown",
   "id": "cbe58999",
   "metadata": {},
   "source": [
    "# 2. sort the month_tuples by the last character of the month name in an appropriately named variable\n"
   ]
  },
  {
   "cell_type": "code",
   "execution_count": null,
   "id": "802b6725",
   "metadata": {},
   "outputs": [],
   "source": [
    "def special_sorter(x):\n",
    "    return x[1][-1]  # Sort by the last character of the month name\n",
    "sorted_month_tuples = sorted(month_tuples, key=lambda x: x[1][-1])\n",
    "sorted_month_tuples"
   ]
  },
  {
   "cell_type": "markdown",
   "id": "915f398e",
   "metadata": {},
   "source": [
    "# sort the rand_numbers = [5,4,1,8,88,-6] , odd first, then even"
   ]
  },
  {
   "cell_type": "code",
   "execution_count": null,
   "id": "3fc0d8ff",
   "metadata": {},
   "outputs": [],
   "source": [
    "# sort the rand_numbers = [5,4,1,8,88,-6] , odd first, then even \n",
    "rand_numbers = [5,4,1,8,88,-6]\n",
    "sorted(rand_numbers , key= lambda x : x%2==0)"
   ]
  },
  {
   "cell_type": "markdown",
   "id": "8a88fd9f",
   "metadata": {},
   "source": [
    "# 3. Define a function that reverses an array ( try more than one method)"
   ]
  },
  {
   "cell_type": "code",
   "execution_count": null,
   "id": "e4b53d46",
   "metadata": {},
   "outputs": [],
   "source": [
    "def reverse_array_1(arr): return arr[::-1]\n",
    "\n",
    "def reverse_array_2(arr) :\n",
    "    for i in range(len(arr)//2) :\n",
    "        arr[i] , arr[-i-1] = arr[-i-1], arr[i]\n",
    "    return arr\n",
    "\n",
    "def reverse_array_3(arr):\n",
    "    return list(reversed(arr))\n",
    "\n",
    "test_array =  [] # [display] [1], [1,2], [1,2,3]]\n",
    "( reverse_array_1(test_array) , \n",
    " reverse_array_2(test_array) ,  \n",
    " reverse_array_3(test_array) )\n"
   ]
  },
  {
   "cell_type": "code",
   "execution_count": null,
   "id": "7a28a8fa",
   "metadata": {},
   "outputs": [],
   "source": [
    "test_array = [ [], [1], [1,2], [1,2,3], list(range(100))]\n",
    "rev_test_array = [ reverse_array_1(t) for t in test_array]\n",
    "# rev_test_array\n",
    "rev_rev_test_array = [ reverse_array_1(t) for t in rev_test_array]\n",
    "rev_rev_test_array == test_array\n",
    "# reverse_array_1(test_array) #, reverse_array_2(test_array) ,  reverse_array_3(test_array) , "
   ]
  },
  {
   "cell_type": "markdown",
   "id": "13a9f8b7",
   "metadata": {},
   "source": [
    "# RECAP of Day 02\n",
    "- Array slice operations are elegant\n",
    "- List interpolations are elegant\n",
    "- Sorted key parameter allows for flexible sorts \n",
    "- Functions for encapsulation\n",
    "- Test cases - normal and edge cases\n",
    "- Problems - month_names, tuple_months, reverse string, flexible sort\n",
    "- Assignment -  palindrome , deck of cards\n",
    "- https://github.com/peterlamar/python-cp-cheatsheet\n"
   ]
  },
  {
   "cell_type": "markdown",
   "id": "ff4ceab9",
   "metadata": {},
   "source": [
    "# Now to Day 3\n",
    "- Assignment review, presentation and discussions\n",
    "\n",
    "## Problems - Day 3\n",
    "\n",
    "### For all problems\n",
    "\n",
    "    - Write test cases to ensure correctness\n",
    "    - Do more than one implementation where possible - brute force and optimized\n",
    "\n",
    "- **Easy : Anagram Problem**  \n",
    "\n",
    "    ```\n",
    "    Given two strings s and t, \n",
    "      return True if t is an anagram of s,  False otherwise. \n",
    "\n",
    "    You may assume that s and t contain only lowercase alphabets.\n",
    "    examples: listen and silent are anagrams\n",
    "\n",
    "    ```\n",
    "\n",
    "- **Medium : Longest Substring Without Repeating Characters** \n",
    " \n",
    "    ```\n",
    "    Given a string s, find the length of the longest substring without repeating characters. \n",
    "    Return the length as an integer.\n",
    "    ```\n",
    "https://tinyurl.com/mite-sliding-window\n",
    "\n",
    "- **Easy (Queue FIFO): Implement a Basic Queue Using 1)Array and 2)Two Stacks**\n",
    "\n",
    "    ```\n",
    "    Implement enqueue and dequeue operations.\n",
    "    Design a queue using 1) array and 2)two stacks (s1, s2).\n",
    "    ```\n",
    "\n",
    "- **Medium (Stack LIFO): Next Greater Element**\n",
    "\n",
    "    ```\n",
    "    Given an array of integers, for each element, find the next greater element to its right. \n",
    "    Return an array of answers; if no greater element exists, use -1.\n",
    "    ```"
   ]
  },
  {
   "cell_type": "markdown",
   "id": "56f53ba9",
   "metadata": {},
   "source": [
    "# 4. Define a function that checks if a string is a palindrome"
   ]
  },
  {
   "cell_type": "code",
   "execution_count": null,
   "id": "ed40764e",
   "metadata": {},
   "outputs": [],
   "source": [
    "def is_palindrome_1(arr):\n",
    "    return arr == arr[::-1]\n",
    "\n",
    "def is_palindrome_2(arr):\n",
    "    for i in range(len(arr)//2):\n",
    "        if arr[i] != arr[-i-1]:\n",
    "            return False\n",
    "    return True\n",
    "\n",
    "def is_palindrome_3(arr):\n",
    "    return all(arr[i] == arr[-i-1] for i in range(len(arr)//2))\n",
    "\n",
    "test_cases= [ [], [1], [1,2], [1,2,1], list(range(1,100,10)), list(range(100,0,-10)), [1,2,3,2,1] ] \n",
    "\n",
    "palindrome_functions = [ is_palindrome_1, is_palindrome_2, is_palindrome_3]\n",
    "\n",
    "test_results = [ \n",
    "    (fn.__name__  , fn(tc), str(tc)) \n",
    "    for tc in test_cases  \n",
    "    for fn in palindrome_functions \n",
    "]\n",
    "test_results\n"
   ]
  },
  {
   "cell_type": "code",
   "execution_count": null,
   "id": "62fd40c7",
   "metadata": {},
   "outputs": [],
   "source": [
    "# fancy formatting\n",
    "import pandas as pd\n",
    "results_df = pd.DataFrame(\n",
    "    test_results, \n",
    "    columns=['function', 'result', 'test_case'] \n",
    ")\n",
    "\n",
    "display(\n",
    "\n",
    "results_df.style.background_gradient(\n",
    "    subset=['result'], \n",
    "    cmap='RdBu'\n",
    "),\n",
    "\n",
    "\n",
    "results_df.pivot_table(\n",
    "    index='function', columns='test_case', \n",
    "    values='result', aggfunc='min').style.map(\n",
    "        lambda x: f\"background-color:{'green' if x else 'red'}\"\n",
    "    )\n",
    ")\n"
   ]
  },
  {
   "cell_type": "markdown",
   "id": "42dfd70a",
   "metadata": {},
   "source": [
    "# 5. Define a tupled array that represents a deck of cards\n",
    "## 5a. Write a function of sort by suit than number \n",
    "## 5b  Write a function to shuffle the deck of cards\n",
    "## 5c  Write a function to find the position of a given card in the deck\n"
   ]
  },
  {
   "cell_type": "code",
   "execution_count": null,
   "id": "9af86299",
   "metadata": {},
   "outputs": [],
   "source": [
    "# Implementation of Cards\n",
    "card_suites = '♠♣♦♥'\n",
    "card_nums = ['A'] + [ f\"{n}\" for n in range(2,11)]+ ['J', 'Q', 'K'] \n",
    "\n",
    "def make_deck() :\n",
    "    return [ \n",
    "        (suite, num)\n",
    "        for suite in card_suites\n",
    "        for num in card_nums\n",
    "    ]\n",
    "\n",
    "def sort_deck(deck) :\n",
    "    deck.sort( key = lambda card: ( \n",
    "        card_suites.index(card[0]) , \n",
    "        card_nums.index(card[1]) \n",
    "    ) )\n",
    "    return deck \n",
    "\n",
    "def shuffle_deck(deck):\n",
    "    from random import shuffle\n",
    "    shuffle(deck)\n",
    "\n",
    "def locate( card, deck):\n",
    "    return deck.index(card)\n",
    "\n",
    "_trace_info = {}\n",
    "def tracer(x) : _trace_info[f\"{x:10s}\"] = ( len(deck), str(deck[:2]) + \"...\" + str(deck[-2:]))\n",
    "\n",
    "deck = make_deck() ; tracer('make') \n",
    "\n",
    "shuffle_deck(deck) ; tracer('shuffle1') \n",
    "\n",
    "shuffle_deck(deck) ; tracer('shuffle2')\n",
    "\n",
    "sort_deck(deck)    ; tracer('sort')\n",
    "display(_trace_info)\n",
    "\n",
    "from random import randrange\n",
    "card = deck[randrange(0,52)]\n",
    "posn = locate(card, deck)\n",
    "\n",
    "print (f\"{card=} is found at {posn=} . {card == deck[posn]}\")\n"
   ]
  },
  {
   "cell_type": "markdown",
   "id": "e5b06dcd",
   "metadata": {},
   "source": [
    "### Anagram Problem"
   ]
  },
  {
   "cell_type": "code",
   "execution_count": null,
   "id": "6dc0e29d",
   "metadata": {},
   "outputs": [],
   "source": [
    "# Anagram Problem\n",
    "def is_anagram_01 (s, t):\n",
    "    return { c:s.count(c) for c in s} == { c:t.count(c) for c in t }\n",
    "\n",
    "def is_anagram_02 (s, t):\n",
    "    if ( len(s) != len(t) ): return False\n",
    "    return sorted(s) == sorted(t)\n",
    "\n",
    "def is_anagram_03(s,t):\n",
    "    return list(s).sort() == list(t).sort()\n",
    "\n",
    "def is_anagram_sandesh(s,t):\n",
    "    # TODO\n",
    "    return True\n",
    "\n",
    "test_cases = [\n",
    "    # Source Target Expected\n",
    "    ['listen', 'silent', True],\n",
    "    ['apple', 'pepal', True],\n",
    "    ['zebra', 'donkey', False],\n",
    "    [\"\", \"\", True],\n",
    "    # [\"APPLE\", \"apple\", ]\n",
    "]\n",
    "\n",
    "functions = [is_anagram_01]\n",
    "\n",
    "test_results = [\n",
    "    (fn.__name__, \"pass\" if fn(tc[0], tc[1]) == tc[2] else \"**fail\", str(tc))\n",
    "    for fn in functions\n",
    "    for tc in test_cases\n",
    "]\n",
    "\n",
    "# test_results= [\n",
    "#     (fn.__name__ , \"pass\" if fn(tc[0], tc[1]) == tc[2] else \"**fail\" , tc )\n",
    "#     for fn in functions for tc in test_cases\n",
    "# ]\n",
    "test_results"
   ]
  },
  {
   "cell_type": "markdown",
   "id": "bee58299",
   "metadata": {},
   "source": [
    "## Day 4\n",
    "### Day 3 Recap\n",
    "- Anagram problem\n",
    "- Test cases annd test harness\n",
    "- import external libraries\n",
    "- Deck of cards\n",
    "- help to dig deeper\n",
    "- know your arrays and hashes very well\n",
    "- know few libraries like Collection , pandas, numpy \n",
    "\n",
    "### Day 3 Assignments\n",
    "- Anagram ( we did in class)\n",
    "- Longest substring - brute force and sliding window\n",
    "- Queue - using array and two stacks\n",
    "\n",
    "### Today's topics\n",
    "- Discuss Queue - Implement and test\n",
    "- Discuss Classes (OOP)\n",
    "- Implement Que as a classs and debug\n",
    "- Discuss Longest Substring - Brute force\n",
    "- Discuss fixed sliding window\n",
    "\n",
    "### Day 4 Assignments\n",
    "- Implement Card and Deck as classes\n",
    "- Implement find max sum of continous k number is an array of n numbers\n",
    "- ~ let n = 10 , k =1..3\n",
    "- ~ generalize\n",
    "- Implement Longest Substring as dynamic sliding window"
   ]
  },
  {
   "cell_type": "code",
   "execution_count": null,
   "id": "6a4e8b57",
   "metadata": {},
   "outputs": [],
   "source": [
    "# Day 3\n",
    "# Simple Q ( create, enqueue, dequeue) using arrays without class\n",
    " \n",
    "# Function to add an element to the queue\n",
    "def enqueue(queue, element):\n",
    "    queue.append(element)\n",
    "\n",
    "# Function to remove an element from the queue\n",
    "def dequeue(queue):\n",
    "    return queue.pop(0) # if not is_empty() else None\n",
    "\n",
    "# Function to check if the queue is empty\n",
    "def is_empty(queue):\n",
    "    return len(queue) == 0\n",
    "\n",
    "enque_test_cases= [\n",
    "    # equeue item, expected queue\n",
    "    (1, [1]), \n",
    "    (2, [1, 2]), \n",
    "    (3, [1, 2, 3]), \n",
    "    (4, [1, 2, 3, 4]), \n",
    "    (5, [1, 2, 3, 4, 5])\n",
    "]\n",
    "\n",
    "a_queue = []\n",
    "enque_test_results = [\n",
    "    (enqueue(a_queue, tc[0]), a_queue.copy() == tc[1]) \n",
    "    for tc in enque_test_cases\n",
    "]\n",
    "enque_test_results"
   ]
  },
  {
   "cell_type": "code",
   "execution_count": null,
   "id": "24ca51fb",
   "metadata": {},
   "outputs": [],
   "source": [
    "tr = [ tr[1] for tr in enque_test_results ] \n",
    "all(tr), tr.count(False), tr.count(True)"
   ]
  },
  {
   "cell_type": "code",
   "execution_count": null,
   "id": "15311c3d",
   "metadata": {},
   "outputs": [],
   "source": [
    "# implement que as a class using arrays minimally. assume infoinite capacity. no error checks.\n",
    "class SimpleQueue:\n",
    "    def __init__(self):\n",
    "        self.queue = []\n",
    "\n",
    "    def enqueue(self, element):\n",
    "        self.queue.append(element)\n",
    "\n",
    "    def dequeue(self):\n",
    "        return self.queue.pop(0) if not self.is_empty() else None\n",
    "\n",
    "    def is_empty(self):\n",
    "        return len(self.queue) == 0\n",
    "    \n",
    "    def __repr__(self):\n",
    "        return f\"SimpleQueue({self.queue})\"\n",
    "    \n",
    "myq = SimpleQueue()\n",
    "myq.enqueue(1)\n",
    "myq.enqueue(11)\n",
    "myq.enqueue(111)\n",
    "myq\n"
   ]
  },
  {
   "cell_type": "code",
   "execution_count": null,
   "id": "ac62562b",
   "metadata": {},
   "outputs": [],
   "source": [
    "# let us debug line by line using vscode debugger\n",
    "aVal = 10\n",
    "anotherVal = 20\n",
    "myq = SimpleQueue()\n",
    "xVal = 30"
   ]
  },
  {
   "cell_type": "markdown",
   "id": "1119434f",
   "metadata": {},
   "source": [
    "# 🐍 Day 5 – Mite Boot camp 2025\n",
    "\n",
    "## 📌 Recap of Day 4\n",
    "\n",
    "\n",
    "- Implemented Queue using array (and two stacks ?)\n",
    "- Explored Python Classes and debugging practices\n",
    "- Discussed:\n",
    "  - Longest Substring (Brute Force & Sliding Window)\n",
    "  - Max Sum of k Continuous Elements (Generalized)\n",
    "\n",
    "## 🧠 Topics for Today\n",
    "\n",
    "- Discuss Day4 assignments - Deck of Cards, Classes, and Sliding Window\n",
    "- Binary Search vs Linear Search (Comparative analysis)\n",
    "- Finding mid/third element of a Linked List using Fast/Slow pointers\n",
    "- Introduction to classic merge logic and pointer manipulation ( stretch goal)\n",
    "- Problem-Solving Mindset:\n",
    "  - How to break down problems\n",
    "  - When to brute-force vs optimize\n",
    "\n",
    "## 📝 Assignments\n",
    "- Change card.__repr__ to show suit and rank\n",
    "- Change sliding window to find second biggest number\n",
    "- Search a card in an array of cards using linear search. Understand why it fails.\n",
    "\n",
    "### 1. 🔍 Implement Binary Search and Linear Search\n",
    "\n",
    "- Use a sorted array to demonstrate both\n",
    "- Compare time complexity and iterations required\n",
    "\n",
    "### 2. 🏃 Find Mid and One-Third Nodes in a Linked List\n",
    "\n",
    "- Use Fast and Slow pointer technique\n",
    "- Extend to locate the 1/3rd node logically\n",
    "\n",
    "### 3. 🔗 Merge Two Sorted Linked Lists (Stretch Goal)\n",
    "\n",
    "- Create a function `merge_sorted_lists(list1, list2)`\n",
    "- Maintain sorting while merging\n",
    "\n",
    "### 4. 🧩 BONUS: Search Insert Position\n",
    "\n",
    "- Given a sorted array and a target value, return the index if the target is found.\n",
    "- If not, return the index where it would be inserted in order.\n",
    "- Sample Function: `search_insert_position(arr, target)`\n"
   ]
  },
  {
   "cell_type": "code",
   "execution_count": 24,
   "id": "97a16bd3",
   "metadata": {},
   "outputs": [
    {
     "data": {
      "text/plain": [
       " \n",
       "        [1♥, 13♠, 8♥, 3♣, 12♥, 4♣, 2♠, 12♦, 8♣, 2♦, 5♠, 11♠, 11♦] \n",
       "        [8♠, 7♣, 9♦, 13♥, 7♠, 8♦, 6♣, 4♥, 1♣, 9♣, 6♦, 12♣, 3♠]\n",
       "        [11♣, 11♥, 9♠, 3♥, 13♦, 10♦, 1♦, 5♦, 4♠, 6♠, 5♣, 1♠, 4♦]\n",
       "        [13♣, 7♥, 12♠, 10♠, 10♣, 10♥, 2♥, 6♥, 3♦, 5♥, 9♥, 7♦, 2♣]"
      ]
     },
     "execution_count": 24,
     "metadata": {},
     "output_type": "execute_result"
    }
   ],
   "source": [
    "# 🎴 Deck and Card Representation Using Classes\n",
    "\n",
    "class Card:\n",
    "    def __init__(self, number):\n",
    "        self.number = number\n",
    "        self.suit = number // 13       # 0 to 3\n",
    "        self.rank = number % 13        # 0 to 12\n",
    "\n",
    "    # def __repr__(self):\n",
    "        # return f\"Card#{self.number} → Suit:{self.suit}, Rank:{self.rank}\"\n",
    "    \n",
    "    def __repr__(self):\n",
    "        suite = ['♠', '♣', '♦', '♥'][self.suit]\n",
    "        # rank = ['A'] + [str(n) for n in range(2, 11)] + ['J', 'Q', 'K'][self.rank]\n",
    "        return f\"{self.rank+1}{suite}\"\n",
    "\n",
    "class Deck:\n",
    "    def __init__(self):\n",
    "        self.cards = [Card(i) for i in range(52)]\n",
    "\n",
    "    def show(self, count=5):\n",
    "        return self.cards[:count]\n",
    "\n",
    "    def shuffle(self):\n",
    "        import random\n",
    "        random.shuffle(self.cards)\n",
    "    \n",
    "    def __repr__(self):\n",
    "        return  f\"\"\" \n",
    "        {self.cards[0:13]} \n",
    "        {self.cards[13:26]}\n",
    "        {self.cards[26:39]}\n",
    "        {self.cards[39:52]}\"\"\"\n",
    "\n",
    "\n",
    "\n",
    "# 🃏 Usage\n",
    "deck = Deck()\n",
    "# print(\"First 5 cards in order:\")\n",
    "# print(deck.show()); print(\"\\n\")\n",
    "\n",
    "deck.shuffle()\n",
    "# print(\"\\nFirst 5 cards after shuffle:\")\n",
    "# print(deck.show())\n",
    "deck"
   ]
  },
  {
   "cell_type": "code",
   "execution_count": null,
   "id": "4491b620",
   "metadata": {},
   "outputs": [
    {
     "data": {
      "text/plain": [
       "[3, 3, 5, 5, 6, 7]"
      ]
     },
     "execution_count": 25,
     "metadata": {},
     "output_type": "execute_result"
    }
   ],
   "source": [
    "# Using fixed sliding window technique to \n",
    "# find max in a subarray n=10, window=3\n",
    "def max_in_sliding_window(arr, window_size):\n",
    "    if not arr or window_size <= 0 or window_size > len(arr):\n",
    "        return []\n",
    "\n",
    "    max_values = []\n",
    "    # Iterate with a sliding window \n",
    "    # from the start to the end length minus the window size\n",
    "    # We will use a simple approach \n",
    "    # to find the max in each window\n",
    "    for i in range(len(arr) - window_size + 1):\n",
    "        current_window = arr[i:i + window_size]\n",
    "        max_values.append(max(current_window))\n",
    "\n",
    "    return max_values\n",
    "\n",
    "max_in_sliding_window(\n",
    "    [1, 3, -1, -3, 5, 3, 6, 7], \n",
    "    3\n",
    ")       \n",
    "\n",
    "# what if window_size is 2 or 1 or 0\n",
    "# agg_in_sliding_window([1, 3, -1, -3, 5, 3, 6, 7], 2)\n",
    "# agg_in_sliding_window([1, 3, -1, -3, 5, 3, 6, 7], 1)\n",
    "# agg_in_sliding_window([1, 3, -1, -3, 5, 3, 6, 7], 0)\n"
   ]
  },
  {
   "cell_type": "code",
   "execution_count": 27,
   "id": "27acdbef",
   "metadata": {},
   "outputs": [],
   "source": [
    "# Day 5: Problem Solving with Python – Simplified for Early Learners\n",
    "\n",
    "# 1. 🔍 Linear Search and Binary Search\n",
    "\n",
    "def linear_search(arr, target):\n",
    "    # Scan each element till target is found (O(n) time)\n",
    "    for i in range(len(arr)):\n",
    "        if arr[i] == target:\n",
    "            return i\n",
    "    return -1\n",
    "\n",
    "def binary_search(arr, target):\n",
    "    # Efficient search in sorted array (O(log n) time)\n",
    "    left = 0\n",
    "    right = len(arr) - 1\n",
    "    while left <= right:\n",
    "        mid = (left + right) // 2\n",
    "        if arr[mid] == target: # Found the target\n",
    "            return mid\n",
    "        elif arr[mid] < target: # Target is in the right half\n",
    "            left = mid + 1\n",
    "        else: # Target is in the left half\n",
    "            right = mid - 1\n",
    "    return -1\n",
    "\n",
    "# bsearch as recursive function\n",
    "def binary_search_recursive(arr, target, left=0, right=None):\n",
    "    if right is None:\n",
    "        right = len(arr) - 1\n",
    "    if left > right:\n",
    "        return -1 # Base case: target not found\n",
    "    mid = (left + right) // 2\n",
    "    if arr[mid] == target: # Found the target\n",
    "        return mid\n",
    "    elif arr[mid] < target: # Target is in the right half\n",
    "        return binary_search_recursive(\n",
    "            arr, target, mid + 1, right)\n",
    "    else:                   # Target is in the left half\n",
    "        return binary_search_recursive(\n",
    "            arr, target, left, mid - 1)\n",
    "\n"
   ]
  },
  {
   "cell_type": "code",
   "execution_count": 31,
   "id": "f87c27cb",
   "metadata": {},
   "outputs": [
    {
     "data": {
      "text/plain": [
       "(4, 4)"
      ]
     },
     "execution_count": 31,
     "metadata": {},
     "output_type": "execute_result"
    }
   ],
   "source": [
    "nums = [1, 2, 3, 4, 5, 6, 7, 8, 9, 10]\n",
    "target = 5\n",
    "(linear_search(nums, target) , \n",
    "binary_search (nums, target\n",
    "                                             )                                             )  # Example search for 5"
   ]
  },
  {
   "cell_type": "code",
   "execution_count": 30,
   "id": "ce7c1606",
   "metadata": {},
   "outputs": [
    {
     "data": {
      "text/plain": [
       "(6, 6)"
      ]
     },
     "execution_count": 30,
     "metadata": {},
     "output_type": "execute_result"
    }
   ],
   "source": [
    "strange = [66, 6,8,12,45, 22, 90, 76 ,4]\n",
    "target = 90\n",
    "(\n",
    "linear_search(strange, target)\n",
    ", binary_search(strange, target)\n",
    ")"
   ]
  },
  {
   "cell_type": "code",
   "execution_count": 28,
   "id": "6cb7cf0c",
   "metadata": {},
   "outputs": [
    {
     "data": {
      "text/plain": [
       "-1"
      ]
     },
     "execution_count": 28,
     "metadata": {},
     "output_type": "execute_result"
    }
   ],
   "source": [
    "cards = [Card(i) for i in range(50)]\n",
    "target_card = Card(10)\n",
    "linear_search(cards, target_card)  # Example card to search for"
   ]
  },
  {
   "cell_type": "code",
   "execution_count": null,
   "id": "b189bbea",
   "metadata": {},
   "outputs": [],
   "source": [
    "cards.index(target_card)  \n",
    "# This will fail because Card does not have __eq__ defined\n",
    "# To fix this, we need to define __eq__ in the Card class       "
   ]
  },
  {
   "cell_type": "code",
   "execution_count": null,
   "id": "39dc573a",
   "metadata": {},
   "outputs": [],
   "source": [
    "# 2. 🏃 Find Mid and One-Third Nodes in Linked List\n",
    "\n",
    "class Node:\n",
    "    def __init__(self, val):\n",
    "        self.val = val\n",
    "        self.next = None\n",
    "\n",
    "def find_mid_and_third(head):\n",
    "    # Fast pointer moves 2 steps, slow 1 step — classic runner technique\n",
    "    # Third pointer advances every third slow move\n",
    "    slow = fast = head\n",
    "    # third = head\n",
    "    count = 0\n",
    "    while fast and fast.next:\n",
    "        fast = fast.next.next\n",
    "        slow = slow.next\n",
    "        count += 1\n",
    "        # if count % 3 == 0 and third:\n",
    "            # third = third.next\n",
    "    return slow.val if slow else None\n",
    "    # return slow.val if slow else None, third.val if third else None\n",
    "\n"
   ]
  },
  {
   "cell_type": "code",
   "execution_count": 4,
   "id": "d4a71df6",
   "metadata": {},
   "outputs": [
    {
     "name": "stdout",
     "output_type": "stream",
     "text": [
      "1 -> 2 -> 3 -> 4 -> 5 -> 6 -> 7 -> 8 -> None\n"
     ]
    }
   ],
   "source": [
    "# 3. 🔗 Merge Two Sorted Linked Lists (Stretch Goal)\n",
    "class Node:\n",
    "    def __init__(self, val):\n",
    "        self.val = val\n",
    "        self.next = None\n",
    "\n",
    "def merge_sorted_lists(l1, l2):\n",
    "    # Merge by selecting smaller node each time\n",
    "    dummy = Node(-1)  # Dummy node to simplify the merge process\n",
    "    curr = dummy\n",
    "    while l1 and l2:  # Continue until one list is exhausted\n",
    "        if l1.val < l2.val:  # Compare values of current nodes\n",
    "            curr.next = l1   # Attach smaller node to merged list\n",
    "            l1 = l1.next     # Move to next node in l1\n",
    "        else:\n",
    "            curr.next = l2   # Attach smaller node to merged list\n",
    "            l2 = l2.next     # Move to next node in l2\n",
    "        curr = curr.next     # Move to next node in merged list\n",
    "    # Append remaining nodes\n",
    "    curr.next = l1 if l1 else l2\n",
    "    return dummy.next # Return the merged list starting from the first real node\n",
    "\n",
    "# Example usage of merge_sorted_lists\n",
    "def create_linked_list(arr):\n",
    "    dummy = Node(-1)\n",
    "    curr = dummy\n",
    "    for val in arr:\n",
    "        curr.next = Node(val)\n",
    "        curr = curr.next\n",
    "    return dummy.next\n",
    "# Create two sorted linked lists\n",
    "l1 = create_linked_list([1, 3, 5, 7])\n",
    "l2 = create_linked_list([2, 4, 6, 8])\n",
    "# Merge the two lists\n",
    "merged_list = merge_sorted_lists(l1, l2)\n",
    "# Function to print linked list\n",
    "def print_linked_list(head):\n",
    "    curr = head\n",
    "    while curr:\n",
    "        print(curr.val, end=\" -> \")\n",
    "        curr = curr.next\n",
    "    print(\"None\")\n",
    "# Print the merged linked list  \n",
    "print_linked_list(merged_list)\n"
   ]
  },
  {
   "cell_type": "code",
   "execution_count": 2,
   "id": "5504333b",
   "metadata": {},
   "outputs": [
    {
     "name": "stdout",
     "output_type": "stream",
     "text": [
      "Insert position for 5 in [1, 3, 5, 6] is 2\n"
     ]
    }
   ],
   "source": [
    "# 4. 🧩 Search Insert Position\n",
    "def search_insert_position(arr, target):\n",
    "    # Variant of binary search — returns index to insert if not found\n",
    "    left = 0\n",
    "    right = len(arr)\n",
    "    while left < right:  # Continue searching while the range is valid\n",
    "        mid = (left + right) // 2\n",
    "        #\n",
    "        if arr[mid] < target:\n",
    "            left = mid + 1\n",
    "        else:\n",
    "            right = mid\n",
    "    return left\n",
    "\n",
    "# Example usage\n",
    "nums = [1, 3, 5, 6]\n",
    "target = 5\n",
    "insert_pos = search_insert_position(nums, target)\n",
    "print(f\"Insert position for {target} in {nums} is {insert_pos}\")\n",
    "\n"
   ]
  },
  {
   "cell_type": "code",
   "execution_count": null,
   "id": "1f35a748",
   "metadata": {},
   "outputs": [],
   "source": [
    "# Assignment Understand this\n",
    "if True :\n",
    "    arr = [2, 4, 6, 8, 10]\n",
    "    print(\"Linear Search:\", linear_search(arr, 6))\n",
    "    print(\"Binary Search:\", binary_search(arr, 6))\n",
    "    print(\"Insert Position:\", search_insert_position(arr, 7))\n",
    "\n",
    "    # Create a linked list: 1 → 2 → 3 → 4 → 5 → 6\n",
    "    nodes = [Node(i) for i in range(1, 7)]\n",
    "    for i in range(5):\n",
    "        nodes[i].next = nodes[i + 1]\n",
    "    mid_val, third_val = find_mid_and_third(nodes[0])\n",
    "    print(\"Mid Node Value:\", mid_val)\n",
    "    print(\"One-Third Node Value:\", third_val)\n",
    "\n",
    "    # Merge sorted lists: 1→3→5 and 2→4→6\n",
    "    l1 = Node(1); l1.next = Node(3); l1.next.next = Node(5)\n",
    "    l2 = Node(2); l2.next = Node(4); l2.next.next = Node(6)\n",
    "    merged = merge_sorted_lists(l1, l2)\n",
    "    print(\"Merged List:\", end=\" \")\n",
    "    while merged:\n",
    "        print(merged.val, end=\" → \")\n",
    "        merged = merged.next\n",
    "    print(\"None\")\n"
   ]
  },
  {
   "cell_type": "markdown",
   "id": "b158f7f1",
   "metadata": {},
   "source": [
    "## 6996 5996 4996 \n",
    "### What is special about these numbers?\n",
    "\n",
    "#### - They are all divisible by 4 ?\n",
    "#### - They are all divisible by 6 ?\n",
    "#### - Anything else ?"
   ]
  },
  {
   "cell_type": "markdown",
   "id": "3df2485b",
   "metadata": {},
   "source": [
    "# 📘 Day 6 – Mite Boot Camp 2025\n",
    "\n",
    "## 🪪 Recap of Day 5\n",
    "- Compared Binary Search vs Linear Search\n",
    "- Fast and Slow pointer for Linked List mid/third nodes\n",
    "- Built Card and Deck classes; explored dunder methods like `__repr__`\n",
    "- Max Sliding Window generalized\n",
    "- Observed `.index()` limitation due to missing `__eq__`/`__lt__` in Card objects\n",
    "\n",
    "## 🧠 Carry-over Assignments\n",
    "- 🔁 Merge Two Sorted Linked Lists (code + logic) ( go up in the notebook )\n",
    "- 📌 Search Insert Position (using modified binary search)\n",
    "\n",
    "## 🆕 New Topics\n",
    "- 📘 https://neetcode.io/practice - choose 150 and simple ones to start\n",
    "- ✏️ Writing expressive `__repr__` methods (done in mini assignment)\n",
    "- 🧠 Regex fundamentals for pattern matching\n",
    "- 🧮 Two Sum problem (array-based hash map logic)\n",
    "- 📈 Intro to Dynamic Programming:\n",
    "  - Solving Fibonacci efficiently\n",
    "  - Highlighting brute-force vs memoized approaches\n",
    "\n",
    "## 📝 Assignments & Exercises\n",
    "1. Solve “Two Sum” using dictionary lookup (O(n) approach)\n",
    "2. Implement Merge Sort recursively (focus on divide step)\n",
    "3. Add `__eq__` and `__lt__` to Card class to support array indexing and sorting\n",
    "4. Apply regex to extract:\n",
    "   - Email addresses from text\n",
    "   - Words starting with vowels\n",
    "5. Solve Fibonacci using simple DP: bottom-up table approach\n"
   ]
  },
  {
   "cell_type": "code",
   "execution_count": 20,
   "id": "9d595de6",
   "metadata": {},
   "outputs": [
    {
     "name": "stdout",
     "output_type": "stream",
     "text": [
      "\n",
      "      n1       =9, \n",
      "      n2       =10, \n",
      "      n1==n2   =False, \n",
      "      n1<n2    =True\n"
     ]
    },
    {
     "data": {
      "text/plain": [
       "1"
      ]
     },
     "execution_count": 20,
     "metadata": {},
     "output_type": "execute_result"
    }
   ],
   "source": [
    "n1 , n2 = 9 ,10\n",
    "print(f\"\"\"\n",
    "      {n1       =}, \n",
    "      {n2       =}, \n",
    "      {n1==n2   =}, \n",
    "      {n1<n2    =}\"\"\")\n",
    "1"
   ]
  },
  {
   "cell_type": "code",
   "execution_count": 27,
   "id": "7cc19a8f",
   "metadata": {},
   "outputs": [
    {
     "name": "stdout",
     "output_type": "stream",
     "text": [
      "\n",
      "      c1       =♠9, \n",
      "      c2       =♠10, \n",
      "      ac1      =♠9\n",
      "      \n",
      "\n",
      "      c1==c2   =False\n",
      "      c1==ac1  =True\n",
      "\n",
      "      c1<c2    =True\n"
     ]
    }
   ],
   "source": [
    "# 🎴 Card class enhancements – __repr__, __eq__, __lt__ for indexing and sorting\n",
    "class Card:\n",
    "    def __init__(self, number):\n",
    "\n",
    "        self.number = number\n",
    "        self.suit = number // 13\n",
    "        self.rank = number % 13\n",
    "\n",
    "    def __repr__(self):\n",
    "        # Meaningful print format for debugging and display\n",
    "        suit_symbols = ['♠', '♣', '♦', '♥']\n",
    "        # rank_symbols = ['A'] + [str(n) for n in range(2, 11)] + ['J', 'Q', 'K']\n",
    "        return f\"{suit_symbols[self.suit]}{self.rank}\"\n",
    "\n",
    "    def __eq__(self, other):\n",
    "        # Enables comparison with .index() and '==' operations\n",
    "        return self.number == other.number\n",
    "\n",
    "    def __lt__(self, other):\n",
    "        # Enables sorting using '<' operations\n",
    "        return self.number < other.number\n",
    "\n",
    "c1, c2, ac1 = Card(9), Card(10), Card(9)\n",
    "print(f\"\"\"\n",
    "      {c1       =}, \n",
    "      {c2       =}, \n",
    "      {ac1      =}\n",
    "      \"\"\")\n",
    "print(f\"\"\"\n",
    "      {c1==c2   =}\n",
    "      {c1==ac1  =}\"\"\")\n",
    "print(f\"\"\"\n",
    "      {c1<c2    =}\"\"\")"
   ]
  },
  {
   "cell_type": "code",
   "execution_count": 28,
   "id": "7dbc731a",
   "metadata": {},
   "outputs": [],
   "source": [
    "    \n",
    "# # # # Example usage of the Card class\n",
    "# # # cards = [Card(i) for i in range(52)]\n",
    "# # nums = list(range(1,52+1))  # Example list of numbers from 0 to 51\n",
    "\n",
    "# # Find the index of a specific card\n",
    "# target_card = Card(10) \n",
    "# c1 , c2 = Card(10), Card(10)\n",
    "# target_num = 5\n",
    "# (\n",
    "#     target_card , cards.index(target_card) ,\n",
    "#     # target_num , nums.index(target_num)\n",
    "# ) \n",
    "\n",
    "# # needs __eq__ defined else this will fail\n",
    "# index = deck.index(target_card) if target_card in deck else -1\n",
    "# print(f\"Index of {target_card}: {index}\")\n",
    "\n",
    "# # Sort the deck using the __lt__ method\n",
    "# deck.sort()  # Uses the __lt__ method for comparison\n",
    "# print(f\"Sorted deck: {deck[:5]} ... {deck[-5:]}\")  # Display first and last 5 cards\n"
   ]
  },
  {
   "cell_type": "markdown",
   "id": "9ba5156f",
   "metadata": {},
   "source": [
    "# 🧵 Beginner Regex Cheat Sheet\n",
    "\n",
    "## 🎯 Basics\n",
    "- `.`: Any character except newline  \n",
    "- `^`: Start of string  \n",
    "- `$`: End of string  \n",
    "- `\\d`: Digit (0–9)  \n",
    "- `\\w`: Word character (a–z, A–Z, 0–9, _)  \n",
    "- `\\s`: Whitespace  \n",
    "- `\\D`: Not a digit  \n",
    "- `\\W`: Not a word character  \n",
    "- `\\S`: Not a whitespace  \n",
    "\n",
    "## 📦 Quantifiers\n",
    "- `*`: 0 or more times  \n",
    "- `+`: 1 or more times  \n",
    "- `?`: 0 or 1 time  \n",
    "- `{n}`: Exactly n times  \n",
    "- `{n,}`: n or more times  \n",
    "- `{n,m}`: Between n and m times  \n",
    "\n",
    "## 🎨 Character Classes\n",
    "- `[abc]`: a, b, or c  \n",
    "- `[^abc]`: Not a, b, or c  \n",
    "- `[a-z]`: a to z  \n",
    "- `[0-9]`: Digits  \n",
    "\n",
    "## 🧭 Anchors\n",
    "- `\\b`: Word boundary  \n",
    "- `\\B`: Not a word boundary  \n",
    "\n",
    "## 📚 Grouping & Alternation\n",
    "- `(abc)`: Matches \"abc\"  \n",
    "- `a|b`: Matches \"a\" or \"b\"  \n",
    "- `(?:abc)`: Non-capturing group  \n",
    "\n",
    "## 🔥 Escaping Special Characters\n",
    "Use `\\` before `. + * ? ^ $ ( ) [ ] { } | \\` to match them literally\n",
    "\n",
    "---\n",
    "\n",
    "## ✍️ Examples\n",
    "\n",
    "### ✅ Match pin Code\n",
    "\n",
    "```python\n",
    "import re\n",
    "re.match(r'^\\d{6}$', '560001')  # True\n",
    "\n",
    "#  find  all pin codes in a string\n",
    "re.findall(r'\\b\\d{6}\\b', 'My pin codes are 560001 and 560002')  # ['560001', '560002']\n",
    "```\n"
   ]
  },
  {
   "cell_type": "code",
   "execution_count": null,
   "id": "b148b63e",
   "metadata": {},
   "outputs": [],
   "source": [
    "# 🧪 Two Sum \n",
    "# – Find two indices where \n",
    "# numbers sum to target\n",
    "def two_sum_naive(arr, target):\n",
    "    # Naive O(n^2) solution\n",
    "    for i in range(len(arr)):\n",
    "        for j in range(i + 1, len(arr)):\n",
    "            if arr[i] + arr[j] == target:\n",
    "                return i, j  # Found pair\n",
    "    return -1, -1  # No valid pair found\n",
    "\n",
    "def two_sum(arr, target):\n",
    "    # Map to store previously seen values\n",
    "    seen = {}  \n",
    "    for i in range(len(arr)):\n",
    "        complement = target - arr[i]\n",
    "        if complement in seen: # Found pair\n",
    "            return seen[complement], i  \n",
    "        # Store current value with its index\n",
    "        seen[arr[i]] = i \n",
    "    return -1, -1  # No valid pair found\n",
    "\n",
    "print(\"Two Sum indices:\", two_sum([2, 7, 11, 15], 9))  # Output: (0, 1)\n",
    "\n"
   ]
  },
  {
   "cell_type": "code",
   "execution_count": null,
   "id": "049de2c3",
   "metadata": {},
   "outputs": [],
   "source": [
    "\n",
    "# 🧵 Merge Sort – Classic divide and conquer sorting\n",
    "\n",
    "def merge_sort(arr):\n",
    "    if len(arr) <= 1:\n",
    "        return arr  # Base case\n",
    "\n",
    "    mid = len(arr) // 2\n",
    "    left = merge_sort(arr[:mid])    # Recursive sort left half\n",
    "    right = merge_sort(arr[mid:])   # Recursive sort right half\n",
    "\n",
    "    result = []\n",
    "    i = j = 0\n",
    "\n",
    "    # Merge two sorted halves\n",
    "    while i < len(left) and j < len(right):\n",
    "        if left[i] < right[j]:\n",
    "            result.append(left[i])\n",
    "            i += 1\n",
    "        else:\n",
    "            result.append(right[j])\n",
    "            j += 1\n",
    "\n",
    "    # Append remaining elements from either half\n",
    "    result.extend(left[i:])\n",
    "    result.extend(right[j:])\n",
    "    return result\n",
    "\n",
    "print(\"Sorted:\", merge_sort([5, 2, 9, 1, 7]))\n",
    "\n"
   ]
  },
  {
   "cell_type": "code",
   "execution_count": 18,
   "id": "7ec6b76c",
   "metadata": {},
   "outputs": [
    {
     "data": {
      "text/plain": [
       "1"
      ]
     },
     "execution_count": 18,
     "metadata": {},
     "output_type": "execute_result"
    }
   ],
   "source": [
    "# Find the money value in this type string\n",
    "# \"Price of the item is Rs.100 if you buy 10+ items\"\n",
    "# \"If you buy 10+ items, the price is Rs.101\"\n",
    "def extract_money_value(s):\n",
    "    match = re.search(r'Rs\\.(\\d+)', s)\n",
    "    return int(match.group(1)) if match else None\n",
    "# make the rx multiline and case insensitive\n",
    "# Example usage\n",
    "str = \"Price of the item is Rs.100 if you buy 10+ items\"\n",
    "str2 = \"If you buy 10+ items, the price is Rs.101\"\n",
    "import re\n",
    "[\n",
    "    extract_money_value(s) for s in [str, str2]\n",
    "]  # Output: 100, 101\n",
    "1\n",
    "\n"
   ]
  },
  {
   "cell_type": "code",
   "execution_count": null,
   "id": "cf3ad331",
   "metadata": {},
   "outputs": [
    {
     "data": {
      "text/plain": [
       "['john@example.com', 'support@domain..org']"
      ]
     },
     "execution_count": 38,
     "metadata": {},
     "output_type": "execute_result"
    }
   ],
   "source": [
    "text2 = \"Contact: john@example.com, support@domain..org\"\n",
    "emails = re.findall(r\"\\b[\\w.-]+@[\\w.-]+\\.\\w+\\b\", text2)\n",
    "emails"
   ]
  },
  {
   "cell_type": "code",
   "execution_count": null,
   "id": "6cb31640",
   "metadata": {},
   "outputs": [],
   "source": [
    "\n",
    "pattern = re.compile(r'''\n",
    "    ^              # Start of string\n",
    "    \\d{3}          # Area code (3 digits)\n",
    "    [\\s-]?         # Optional space or dash\n",
    "    \\d{3}          # First 3 digits\n",
    "    [\\s-]?         # Optional space or dash\n",
    "    \\d{4}          # Last 4 digits\n",
    "    $              # End of string\n",
    "''', re.VERBOSE)\n",
    "\n",
    "print(bool(pattern.match(\"123-456-7890\")))  # True\n",
    "print(bool(pattern.match(\"123 456 7890\")))  # True\n"
   ]
  },
  {
   "cell_type": "code",
   "execution_count": null,
   "id": "7f4f2d38",
   "metadata": {},
   "outputs": [],
   "source": [
    "# 📜 Regex Basics – Step-by-step pattern matching\n",
    "\n",
    "import re\n",
    "\n",
    "# 1️⃣ Basic example: Find digits\n",
    "text1 = \"Room numbers are 42 and 108.\"\n",
    "digits = re.findall(r\"\\d+\", text1)  # \\d matches any digit, + means one or more\n",
    "print(\"Digits found:\", digits)\n",
    "\n",
    "# 2️⃣ Email extraction – Common pattern\n",
    "text2 = \"Contact: john@example.com, support@domain.org\"\n",
    "emails = re.findall(r\"\\b[\\w.-]+@[\\w.-]+\\.\\w+\\b\", text2)\n",
    "# \\b → word boundary; \n",
    "# [\\w.-]+ → username; \n",
    "# @ → at symbol;\n",
    "# [\\w.-]+ → domain name; \n",
    "# \\.\\w+ → domain extension\n",
    "print(\"Emails:\", emails)\n",
    "\n",
    "# 3️⃣ Words starting with vowels\n",
    "sentence = \"An elephant arrived early at an island with unusual oranges.\"\n",
    "vowel_words = re.findall(r\"\\b[aeiouAEIOU]\\w*\\b\", sentence)\n",
    "# \\b → word boundary; [aeiouAEIOU] → vowel; \\w* → rest of word\n",
    "print(\"Words starting with vowels:\", vowel_words)\n",
    "\n"
   ]
  },
  {
   "cell_type": "markdown",
   "id": "30ff0aa3",
   "metadata": {},
   "source": [
    "# 📘 Day 7 – Mite Boot Camp 2025\n",
    "\n",
    "## 🪪 Recap of Day 6\n",
    "- Refined Card class with `__eq__`, `__lt__` for sorting\n",
    "- Two Sum with hashing logic\n",
    "- Merge Sort of linked lists \n",
    "- Search Insert Position using binary search variant\n",
    "- 📌 Regex patterns (emails, vowels)\n",
    "\n",
    "## 🧠 Carry-over Assignments\n",
    "- 🔁 Fibonacci with bottom-up DP\n",
    "\n",
    "## 🌳 New Topics – Trees, Heaps & Stacks\n",
    "\n",
    "### 🧱 Stack Application\n",
    "- Problem: **Matching Braces**\n",
    "  - Use stack to validate `()`, `{}`, and `[]` balance\n",
    "  - Early exit strategy and empty stack check\n",
    "\n",
    "### 🌲 Binary Trees\n",
    "- Traversals: Inorder, Preorder, Postorder (brief overview)\n",
    "- **Symmetric Tree vs Mirror Tree**\n",
    "  - Define and contrast\n",
    "  - Recursive DFS implementation\n",
    "  - Base cases: null nodes and leaf symmetry\n",
    "\n",
    "### ⚖️ Min Heap\n",
    "- http://tinyurl.com/mite-2025-heap\n",
    "- Heapify: building a MinHeap using `heapq`\n",
    "- **Problem: Find K Smallest Elements**\n",
    "  - Extract with `heappop` iteratively\n",
    "  - Highlight time-space efficiency\n",
    "\n",
    "### 🔍 Binary Search Variants\n",
    "- 🔎 Search in:\n",
    "  - ✅ Sorted Array (standard binary search)\n",
    "  - 🔁 Rotated Sorted Array (pivot-aware logic)\n",
    "    - Conditions to determine search direction\n",
    "    - Edge cases: length, rotation, duplicates\n",
    "\n",
    "## 📝 Assignments & Exercises\n",
    "\n",
    "1. 🧱 Matching Braces – implement and test nested pairs\n",
    "2. 🌲 Symmetric Tree Check – use DFS recursion\n",
    "3. ⚖️ Use `heapq` to extract 3 smallest values from `[9, 1, 5, 3, 7, 2]`\n",
    "4. 🔍 Solve:\n",
    "   - Binary Search on a sorted array\n",
    "   - Search target in a rotated sorted array\n",
    "5. 🌲 (Optional) Tree traversal prints using recursion\n"
   ]
  },
  {
   "cell_type": "code",
   "execution_count": 1,
   "id": "6ccfa856",
   "metadata": {},
   "outputs": [
    {
     "name": "stdout",
     "output_type": "stream",
     "text": [
      "Fibonacci (Recursive): 13\n",
      "Fibonacci (DP): 13\n"
     ]
    }
   ],
   "source": [
    "# 🧮 Fibonacci – Recursion vs Dynamic Programming\n",
    "\n",
    "# 🚧 Recursive approach – simple but inefficient for large n\n",
    "def fib_recursive(n):\n",
    "    if n == 0 or n == 1:\n",
    "        return n\n",
    "    return ( \n",
    "        fib_recursive(n - 1) \n",
    "        + fib_recursive(n - 2)\n",
    "    )\n",
    "\n",
    "# Dynamic Programming – memoization to optimize recursion\n",
    "# 🚧 Recursive approach with memoization – avoids recomputation\n",
    "def fib_recursive_memo(n, memo={}):\n",
    "    if n in memo:\n",
    "        return memo[n]\n",
    "    if n == 0 or n == 1:\n",
    "        return n\n",
    "    memo[n] = fib_recursive_memo(n - 1, memo) \\\n",
    "        + fib_recursive_memo(n - 2, memo)\n",
    "    return memo[n]\n",
    "\n",
    "# ✅ Dynamic Programming \n",
    "# – efficient with bottom-up tabulation\n",
    "def fib_dp(n):\n",
    "    if n == 0 or n == 1:\n",
    "        return n\n",
    "    dp = [0] * (n + 1)\n",
    "    dp[1] = 1\n",
    "    for i in range(2, n + 1):\n",
    "        dp[i] = dp[i - 1] + dp[i - 2]\n",
    "    return dp[n]\n",
    "\n",
    "# 📊 Compare outputs\n",
    "n = 7\n",
    "print(\"Fibonacci (Recursive):\", fib_recursive(n))\n",
    "print(\"Fibonacci (DP):\", fib_dp(n))\n",
    "\n",
    "# 📝 Pedagogical Notes:\n",
    "# - Recursive version is easy to understand \n",
    "# but **recomputes** values many times.\n",
    "#   Time complexity: O(2^n), not suitable beyond n=30.\n",
    "#  ========================\n",
    "# - Recursive with memoization is \n",
    "# better, storing results in a dictionary.\n",
    "#   Time complexity: O(n), but still uses recursion.\n",
    "#  ========================\n",
    "# - DP version stores results \n",
    "# in a list and **avoids recomputation**.\n",
    "#   Time complexity: O(n), much faster and memory-efficient.\n",
    "# - This contrast is ideal for illustrating brute-force vs optimized thinking."
   ]
  },
  {
   "cell_type": "code",
   "execution_count": 16,
   "id": "87f31231",
   "metadata": {},
   "outputs": [
    {
     "name": "stdout",
     "output_type": "stream",
     "text": [
      "Recursive: 89 in 0.166341s\n",
      "Recursive with Memoization: 89 in 0.001001s\n",
      "Dynamic Programming: 89 in 0.007589s\n"
     ]
    }
   ],
   "source": [
    "# let's time the fib functions\n",
    "import time\n",
    "def time_fib(func, n, times=10000):\n",
    "    start = time.time()\n",
    "    for _ in range(times):\n",
    "        result = func(n)\n",
    "    end = time.time()\n",
    "    return result, end - start\n",
    "n = 11 # Adjust n for testing\n",
    "recursive_result, recursive_time = time_fib(\n",
    "    fib_recursive, n)\n",
    "recursive_memo_result, recursive_memo_time = time_fib(\n",
    "        fib_recursive_memo, n)\n",
    "dp_result, dp_time = time_fib(\n",
    "    fib_dp, n)\n",
    "print(f\"Recursive: {recursive_result} in {recursive_time:.6f}s\")\n",
    "print(f\"Recursive with Memoization: {recursive_memo_result} in {recursive_memo_time:.6f}s\")\n",
    "print(f\"Dynamic Programming: {dp_result} in {dp_time:.6f}s\")"
   ]
  },
  {
   "cell_type": "code",
   "execution_count": null,
   "id": "bf244106",
   "metadata": {},
   "outputs": [],
   "source": []
  },
  {
   "cell_type": "code",
   "execution_count": null,
   "id": "3bd0086a",
   "metadata": {},
   "outputs": [],
   "source": [
    "i# 🔍 1. Binary Search – Sorted Array\n",
    "\n",
    "def binary_search(arr, target):\n",
    "    low = 0\n",
    "    high = len(arr) - 1\n",
    "\n",
    "    while low <= high:\n",
    "        mid = (low + high) // 2\n",
    "\n",
    "        if arr[mid] == target:\n",
    "            return mid  # found target\n",
    "        elif arr[mid] < target:\n",
    "            low = mid + 1  # search right\n",
    "        else:\n",
    "            high = mid - 1  # search left\n",
    "\n",
    "    return -1  # not found\n",
    "\n",
    "# ✅ Try: binary_search([2, 4, 7, 10, 14], 10)\n"
   ]
  },
  {
   "cell_type": "code",
   "execution_count": null,
   "id": "e9dac35d",
   "metadata": {},
   "outputs": [],
   "source": [
    "# 🔍 2. Binary Search – Rotated Sorted Array\n",
    "\n",
    "def search_rotated(arr, target):\n",
    "    low = 0\n",
    "    high = len(arr) - 1\n",
    "\n",
    "    while low <= high:\n",
    "        mid = (low + high) // 2\n",
    "\n",
    "        if arr[mid] == target:\n",
    "            return mid\n",
    "\n",
    "        # Left half is sorted\n",
    "        if arr[low] <= arr[mid]:\n",
    "            if arr[low] <= target < arr[mid]:\n",
    "                high = mid - 1\n",
    "            else:\n",
    "                low = mid + 1\n",
    "        # Right half is sorted\n",
    "        else:\n",
    "            if arr[mid] < target <= arr[high]:\n",
    "                low = mid + 1\n",
    "            else:\n",
    "                high = mid - 1\n",
    "\n",
    "    return -1\n",
    "\n",
    "# ✅ Try: search_rotated([6,7,8,1,2,3,4], 3)\n"
   ]
  },
  {
   "cell_type": "code",
   "execution_count": null,
   "id": "c1af0faa",
   "metadata": {},
   "outputs": [],
   "source": [
    "# 🧱 3. Matching Braces – Stack Use\n",
    "\n",
    "def is_valid(s):\n",
    "    stack = []\n",
    "    pair = {')': '(', ']': '[', '}': '{'}\n",
    "\n",
    "    for ch in s:\n",
    "        if ch in '([{':\n",
    "            stack.append(ch)  # opening brace\n",
    "        elif ch in ')]}':\n",
    "            if not stack or stack[-1] != pair[ch]:\n",
    "                return False  # mismatch\n",
    "            stack.pop()\n",
    "\n",
    "    return len(stack) == 0  # stack should be empty\n",
    "\n",
    "# ✅ Try: is_valid(\"{[()()]}\")\n"
   ]
  },
  {
   "cell_type": "code",
   "execution_count": null,
   "id": "989cb9b5",
   "metadata": {},
   "outputs": [],
   "source": [
    "# ⚖️ 4. MinHeap – Find K Smallest Elements\n",
    "\n",
    "import heapq\n",
    "\n",
    "def k_smallest(arr, k):\n",
    "    heapq.heapify(arr)  # converts to minheap\n",
    "    return [heapq.heappop(arr) for _ in range(k)]\n",
    "\n",
    "# ✅ Try: k_smallest([9, 1, 5, 3, 7], 3)\n"
   ]
  },
  {
   "cell_type": "code",
   "execution_count": null,
   "id": "03525b52",
   "metadata": {},
   "outputs": [],
   "source": [
    "# 🌲 5. Tree – Symmetric vs Mirror\n",
    "\n",
    "class TreeNode:\n",
    "    def __init__(val):  # what is the mistake here?\n",
    "        self.val = val\n",
    "        self.left = None\n",
    "        self.right = None\n",
    "\n",
    "# Checks symmetry: left subtree mirrors right subtree\n",
    "def is_symmetric(root):\n",
    "    def is_mirror(t1, t2):\n",
    "        if not t1 and not t2: # both are None\n",
    "            return True\n",
    "        if not t1 or not t2:   # one is None, other is not\n",
    "            return False\n",
    "        # Check values and recursively check left/right subtrees\n",
    "        return (t1.val == t2.val and \n",
    "                is_mirror(t1.left, t2.right) and \n",
    "                is_mirror(t1.right, t2.left))\n",
    "\n",
    "    return is_mirror(root, root)\n",
    "\n",
    "# Big O Notation:\n",
    "# - Time Complexity: O(n) for n nodes in the tree\n",
    "# - Space Complexity: O(h) for the recursion stack, where h is the height of the tree\n",
    "\n",
    "# Example Usage:\n",
    "# Create a symmetric tree\n",
    "#       1\n",
    "#      / \\\n",
    "#     2   2\n",
    "#    / \\ / \\\n",
    "#   3  4 4  3\n",
    "#\n",
    "# root = TreeNode(1)\n",
    "# root.left = TreeNode(2)\n",
    "# root.right = TreeNode(2)\n",
    "# root.left.left = TreeNode(3)\n",
    "# root.left.right = TreeNode(4)\n",
    "# root.right.left = TreeNode(4)\n",
    "# root.right.right = TreeNode(3)\n",
    "#\n",
    "# print(is_symmetric(root))  # Should return True\n"
   ]
  }
 ],
 "metadata": {
  "kernelspec": {
   "display_name": "base",
   "language": "python",
   "name": "python3"
  },
  "language_info": {
   "codemirror_mode": {
    "name": "ipython",
    "version": 3
   },
   "file_extension": ".py",
   "mimetype": "text/x-python",
   "name": "python",
   "nbconvert_exporter": "python",
   "pygments_lexer": "ipython3",
   "version": "3.11.5"
  }
 },
 "nbformat": 4,
 "nbformat_minor": 5
}
